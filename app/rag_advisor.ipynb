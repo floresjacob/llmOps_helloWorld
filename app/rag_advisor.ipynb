{
 "cells": [
  {
   "cell_type": "code",
   "execution_count": 3,
   "metadata": {},
   "outputs": [],
   "source": [
    "import locale\n",
    "locale.getpreferredencoding = lambda: \"UTF-8\""
   ]
  },
  {
   "cell_type": "code",
   "execution_count": 4,
   "metadata": {},
   "outputs": [],
   "source": [
    "!pip install langchain -qU"
   ]
  },
  {
   "cell_type": "code",
   "execution_count": 5,
   "metadata": {},
   "outputs": [],
   "source": [
    "!pip install openai cohere tiktoken -qU"
   ]
  },
  {
   "cell_type": "code",
   "execution_count": 6,
   "metadata": {},
   "outputs": [],
   "source": [
    "import os\n",
    "import getpass\n",
    "\n",
    "os.environ[\"OPENAI_API_KEY\"] = getpass.getpass(\"OpenAI API Key:\")"
   ]
  },
  {
   "cell_type": "code",
   "execution_count": 7,
   "metadata": {},
   "outputs": [],
   "source": [
    "from langchain.chat_models import ChatOpenAI\n",
    "\n",
    "openai_model = \"gpt-4-1106-preview\"\n",
    "\n",
    "openai = ChatOpenAI(model_name=openai_model)"
   ]
  },
  {
   "cell_type": "code",
   "execution_count": 8,
   "metadata": {},
   "outputs": [],
   "source": [
    "from langchain.prompts.chat import (\n",
    "    ChatPromptTemplate,\n",
    "    HumanMessagePromptTemplate,\n",
    "    SystemMessagePromptTemplate,\n",
    ")\n",
    "from langchain.schema import HumanMessage, SystemMessage\n",
    "\n",
    "messages = [\n",
    "    SystemMessage(\n",
    "        content=\"You are a helpful assistant.\"\n",
    "    ),\n",
    "    HumanMessage(\n",
    "        content=\"As a new academic advisor, what should I keep in mind when meeting with Freshmen students?\"\n",
    "    ),\n",
    "]"
   ]
  },
  {
   "cell_type": "code",
   "execution_count": 9,
   "metadata": {},
   "outputs": [
    {
     "data": {
      "text/plain": [
       "AIMessage(content=\"As an academic advisor meeting with freshmen students, it's important to approach each session with a combination of empathy, practicality, and foresight. Here are some key points to keep in mind:\\n\\n1. **Understand Their Perspective**: Remember that for many freshmen, college is a brand-new experience filled with challenges and opportunities. They may be experiencing a wide range of emotions from excitement to anxiety.\\n\\n2. **Establish Rapport**: Make an effort to create a welcoming environment. Encourage open communication and show that you are there to support their academic journey.\\n\\n3. **Assess Their Needs**: Some students might need help with course selection, while others might be struggling with time management or seeking career advice. Tailor your guidance to address their individual needs.\\n\\n4. **Set Goals**: Help students set realistic short-term and long-term goals. Assist them in understanding how their academic choices align with their career aspirations and personal growth.\\n\\n5. **Educate on Resources**: Inform them about campus resources such as tutoring centers, libraries, counseling services, career services, and student organizations that can support their academic and personal development.\\n\\n6. **Academic Requirements**: Clarify general education requirements, major prerequisites, and graduation requirements. Make sure they understand the importance of fulfilling these in a timely manner.\\n\\n7. **Plan Ahead**: Encourage students to think ahead about their schedules for future semesters. Discuss the balance between course loads, extracurricular activities, and personal time.\\n\\n8. **Encourage Exploration**: Freshmen should be encouraged to explore different disciplines and extracurricular activities to broaden their perspectives and discover their passions.\\n\\n9. **Teach Self-Advocacy**: Empower students to take responsibility for their education by seeking help when needed, communicating with professors, and making use of office hours.\\n\\n10. **Monitor Progress**: Keep track of students' academic performance and intervene early if you notice signs of trouble. Early intervention can help students get back on track before issues become insurmountable.\\n\\n11. **Cultural Sensitivity**: Be aware of and sensitive to the diverse backgrounds of students, including international students, students from various socioeconomic backgrounds, and first-generation college students.\\n\\n12. **Personal Well-Being**: Discuss the importance of mental health, stress management, and work-life balance. Make sure students know how to seek help if they're feeling overwhelmed.\\n\\n13. **Confidentiality**: Maintain confidentiality and build trust. Students need to feel safe in sharing their concerns and challenges with you.\\n\\n14. **Professional Development**: Keep yourself updated with the latest trends in higher education, advising techniques, and the specific policies of your institution.\\n\\n15. **Follow-Up**: Schedule follow-up meetings to check on their progress and adjust plans as needed. Consistent contact can help students stay focused and feel supported.\\n\\nBy keeping these points in mind, you can help freshmen navigate their first year of college successfully and lay the groundwork for a fruitful academic career.\")"
      ]
     },
     "execution_count": 9,
     "metadata": {},
     "output_type": "execute_result"
    }
   ],
   "source": [
    "openai(messages)"
   ]
  },
  {
   "cell_type": "code",
   "execution_count": 10,
   "metadata": {},
   "outputs": [
    {
     "name": "stdout",
     "output_type": "stream",
     "text": [
      "content=\"As an academic advisor meeting with freshmen students, it's important to keep in mind the following considerations to help them transition successfully into college life:\\n\\n1. **Orientation to College Life:**\\n   Freshmen are often unfamiliar with the college environment. Provide them with guidance on how to navigate the campus, understand academic policies, and utilize resources such as the library, tutoring centers, and counseling services.\\n\\n2. **Academic Planning:**\\n   Assist students in understanding degree requirements, selecting appropriate courses, and making a four-year plan. Emphasize the importance of fulfilling general education requirements and exploring major options if they are undecided.\\n\\n3. **Goal Setting:**\\n   Encourage students to set both short-term and long-term academic and career goals. This helps them stay focused and motivated throughout their college journey.\\n\\n4. **Time Management:**\\n   Many freshmen struggle with managing their time effectively. Offer strategies for balancing coursework, extracurricular activities, work, and personal time.\\n\\n5. **Study Skills:**\\n   Provide tips on effective studying techniques, note-taking, test preparation, and critical thinking skills.\\n\\n6. **Encourage Engagement:**\\n   Talk to students about the value of participating in campus activities, clubs, and organizations. Engagement can enhance their college experience and build valuable skills.\\n\\n7. **Addressing Concerns:**\\n   Be attentive to any concerns or anxieties students may express about college life. Provide reassurance and direct them to appropriate support services if needed.\\n\\n8. **Building Relationships:**\\n   Encourage students to form relationships with faculty and peers. These connections can offer academic support, mentorship, and networking opportunities.\\n\\n9. **Monitoring Progress:**\\n   Discuss the importance of self-assessment and seeking help when needed. Remind them of the academic performance expectations and the implications of their grades.\\n\\n10. **Referral to Resources:**\\n    Make sure students are aware of campus resources such as financial aid, mental health services, career counseling, and academic workshops.\\n\\n11. **Cultural Competency:**\\n    Be sensitive to the diverse backgrounds of students and understand how cultural differences might affect their college experience.\\n\\n12. **Communication:**\\n    Establish clear communication channels with students. Encourage them to reach out with any questions or concerns and be responsive to their needs.\\n\\n13. **Confidentiality:**\\n    Ensure that students understand their rights to privacy and the confidentiality of their academic records.\\n\\n14. **Empowerment:**\\n    Empower students to take responsibility for their education by making informed decisions and learning to self-advocate.\\n\\n15. **Follow-up:**\\n    Plan for regular check-ins with students to track their progress, update their academic plans, and address any new challenges they may face.\\n\\nBy keeping these points in mind, you'll be well-prepared to support freshmen in their academic journey and contribute positively to their overall college experience.\"\n"
     ]
    }
   ],
   "source": [
    "system_template = \"You are a helpful assistant.\"\n",
    "human_template = \"{content}\"\n",
    "\n",
    "chat_prompt = ChatPromptTemplate.from_messages([\n",
    "    (\"system\", system_template),\n",
    "    (\"human\", human_template)\n",
    "])\n",
    "\n",
    "chat_model = openai\n",
    "\n",
    "chat_chain = chat_prompt | chat_model\n",
    "\n",
    "print(chat_chain.invoke({\"content\" : \"As a new academic advisor, what should I keep in mind when meeting with Freshmen students?\"}))"
   ]
  },
  {
   "cell_type": "code",
   "execution_count": 11,
   "metadata": {},
   "outputs": [
    {
     "name": "stdout",
     "output_type": "stream",
     "text": [
      "content='As a new academic advisor meeting with freshman students, you should keep the following in mind:\\n\\n1. **Early Engagement**: Understand that the First-Year Advising Program aims to initiate contact with advisees as early as the SOAR session. Be prepared to meet and engage with your assigned advisees soon after they register for SOAR.\\n\\n2. **Intended Major**: Be aware that a student’s intended major is a key factor in pairing them with an advisor. Since majors can change between application submission and SOAR registration, be ready to adapt to any changes a student might have made regarding their intended major.\\n\\n3. **Professional Development**: Continuously seek initial or continuing professional development opportunities to ensure you are well-equipped to support your advisees.\\n\\n4. **SOAR Participation**: Provide your availability for SOAR sessions to the Director of UAS, understanding that your participation is voluntary but crucial for meeting your assigned advisees.\\n\\n5. **Preparation for SOAR**: You will receive information about your advisees prior to the SOAR session, including academic background and contact details. Use this information to develop a tentative fall schedule for them.\\n\\n6. **Initial SOAR Meeting**: During SOAR, you will meet your advisees as a group. This is an opportunity to briefly discuss and finalize their fall class schedules and to establish a point of contact for any questions or concerns they may have before the semester starts.\\n\\n7. **Building Rapport**: Frequent meetings are encouraged to foster rapport with advisees, focusing on their needs and goals. Be approachable and ready to assist students as they adjust to college life.\\n\\n8. **Regular Check-ins**: You are expected to contact your advisees for an initial check-in at the beginning of the semester and two to three times throughout the semester as needed.\\n\\n9. **Transition Support**: Remember that your role is to serve as an anchor for first-year students. You will help them transition successfully into their second year, after which they may be reassigned to a new advisor based on their major or department.\\n\\n10. **Record Keeping**: Advisor assignments are made official in Self Service Banner following each SOAR session, so ensure that you keep accurate records and maintain communication with your advisees.\\n\\nBy keeping these points in mind, you can effectively support your freshman advisees as they navigate their first year of college.'\n"
     ]
    }
   ],
   "source": [
    "HUMAN_TEMPLATE = \"\"\"\n",
    "#CONTEXT:\n",
    "{context}\n",
    "\n",
    "QUERY:\n",
    "{query}\n",
    "\n",
    "Use the provide context to answer the provided user query. Only use the provided context to answer the query. If you do not know the answer, response with \"I don't know\"\n",
    "\"\"\"\n",
    "\n",
    "CONTEXT = \"\"\"\n",
    "How the First-Year Advising Program works:\n",
    "Not only is the philosophical approach to working with first-year students different, so is the timing and\n",
    "process in which advisor and advisee are paired. The First-Year Advising Program initiates contact\n",
    "between advisor and advisee much earlier than has been done in past years. It begins formally at the\n",
    "initial meeting at SOAR, although much behind the scenes work has been completed prior to that meeting.\n",
    "One of the crucial pieces of information that determines who a student’s First-Year Advisor will be is their\n",
    "intended major. When first-year students register for SOAR, the student’s major is displayed as part of\n",
    "the online SOAR registration. The major listed is the one that students indicated on their college\n",
    "application to UNA. A significant period of time may have elapsed between when a student submitted\n",
    "his/her application and the time the student registers for SOAR. A student’s interests and intended major often has changed during that time. Therefore, during the SOAR registration process, the student is asked\n",
    "if he/she wishes to change his/her major. If a student decides that the major listed is no longer his/her\n",
    "intended major, the student may choose a different major; a drop-down box appears with a list of UNA’s\n",
    "current majors. Students are encourage to submit a formal major change with a document that they\n",
    "submit to the Registrar’s Office.\n",
    "In the intervening time, First-Year Advisors (who have received initial professional development and/or\n",
    "continuing professional development) are then asked to provide the Director of UAS with the SOAR dates\n",
    "they can voluntarily attend and meet with their assigned advisees.\n",
    "The Director then assigns advisors to the SOAR attendees using the following system:\n",
    "• Students who have not chosen a major (are undecided in the College of Arts and Sciences) are\n",
    "assigned to First-Year Advisors who are staff employees of the university.\n",
    "• Students with declared majors are assigned to First-Year Advisors in their respective major\n",
    "departments.\n",
    "• If a department does not have a First-Year Advisor or one available for a particular SOAR session,\n",
    "any students who have indicated a major in that department are assigned to UAS professional staff\n",
    "First-Year Advisors.\n",
    "Official advisor assignments are made once the SOAR session is “locked” (no students can register without\n",
    "calling Student Affairs), which typically occurs one week prior to the beginning of the SOAR session. Before\n",
    "that time, students may change their SOAR dates or cancel their registration. Any questions regarding a\n",
    "student’s major are resolved by the Director prior to making the assignments. The Director of UAS pairs\n",
    "First-Year Advisors and their advisees based upon the major information provided. The Director sends out\n",
    "information to First-Year Advisors regarding their assigned advisees prior to each SOAR session. The\n",
    "information includes the student’s name, L number, address, phone numbers, email addresses (both UNA\n",
    "and personal), major, ACT scores, and any prior college credit. The assigned First-Year Advisor then\n",
    "develops a tentative fall schedule for an advisee using this information. A First-Year Advisor and his/her assigned advisees meet as a group during the afternoon of the first day\n",
    "of SOAR to briefly talk and to begin to finalize a class schedule for fall semester. Students were also given\n",
    "contact information for their First-Year Advisor. Students leave the advising session with a point of contact\n",
    "(their First-Year Advisor) before ever being on campus if they have any questions or concerns in the\n",
    "intervening weeks or months.\n",
    "Official advisor assignments are made in Self Service Banner by UAS following each SOAR session. When\n",
    "the fall semester begins, a student will have been assigned an advisor so that students can see their FirstYear Advisor listed officially in Self-Service Banner should they lose the contact information or when asked\n",
    "to look during their FYE class.\n",
    "During the fall semester and spring semester, First-Year Advisors are expected to contact advisees for an\n",
    "initial “check in” at the beginning of the semester (within the first week or two) and at least two or three\n",
    "times throughout the semester as needed. It is expected that frequent meetings between First-Year\n",
    "Advisor and advisee will foster the development of the rapport necessary to focus on a student’s needs\n",
    "and goals. In addition, students should be more at ease asking their First-Year Advisor for assistance as\n",
    "the student adjusts to his/her first semester or two of college. The First-Year Advisor Program is designed so that First-Year Advisors serve as an anchor for first-year\n",
    "students. Once a student has successfully transitioned to his/her second year at UNA, it is the\n",
    "responsibility of the academic departments or colleges to reassign an advisor to the second-year student.\n",
    "Any students who remain undecided in the College of Arts and Sciences can either stay with their FirstYear Advisor by mutual agreement or be assigned an advisor in UAS until a student decides on an academic\n",
    "major. \n",
    "\"\"\"\n",
    "\n",
    "chat_prompt = ChatPromptTemplate.from_messages([\n",
    "    (\"human\", HUMAN_TEMPLATE)\n",
    "])\n",
    "\n",
    "chat_model = openai\n",
    "\n",
    "chat_chain = chat_prompt | chat_model\n",
    "\n",
    "print(chat_chain.invoke({\"query\" : \"As a new academic advisor, what should I keep in mind when meeting with Freshmen students?\", \"context\" : CONTEXT}))"
   ]
  },
  {
   "cell_type": "code",
   "execution_count": 12,
   "metadata": {},
   "outputs": [],
   "source": [
    "from langchain.text_splitter import RecursiveCharacterTextSplitter\n",
    "\n",
    "def tiktoken_len(text):\n",
    "    tokens = encoding.encode(\n",
    "        text,\n",
    "    )\n",
    "    return len(tokens)\n",
    "\n",
    "text_splitter = RecursiveCharacterTextSplitter(\n",
    "    chunk_size = 100,\n",
    "    chunk_overlap = 0,\n",
    "    length_function = tiktoken_len,\n",
    ")"
   ]
  },
  {
   "cell_type": "code",
   "execution_count": 13,
   "metadata": {},
   "outputs": [],
   "source": [
    "from langchain.embeddings import OpenAIEmbeddings\n",
    "\n",
    "embedding_model = OpenAIEmbeddings()"
   ]
  },
  {
   "cell_type": "code",
   "execution_count": 14,
   "metadata": {},
   "outputs": [],
   "source": [
    "import tiktoken\n",
    "encoding = tiktoken.encoding_for_model(openai_model)"
   ]
  },
  {
   "cell_type": "code",
   "execution_count": 15,
   "metadata": {},
   "outputs": [],
   "source": [
    "def retrieve_context(query, embeddings_dict, embedding_model):\n",
    "  query_vector = embedding_model.embed_query(query)\n",
    "  max_similarity = -float('inf')\n",
    "  closest_chunk = \"\"\n",
    "\n",
    "  for chunk, chunk_vector in embeddings_dict.items():\n",
    "    cosine_similarity_score = cosine_similarity(chunk_vector, query_vector)\n",
    "\n",
    "    if cosine_similarity_score > max_similarity:\n",
    "      closest_chunk = chunk\n",
    "      max_similarity = cosine_similarity_score\n",
    "\n",
    "  return closest_chunk"
   ]
  },
  {
   "cell_type": "code",
   "execution_count": 16,
   "metadata": {},
   "outputs": [],
   "source": [
    "def simple_rag(query, embeddings_dict, embedding_model, chat_chain):\n",
    "  context = retrieve_context(query, embeddings_dict, embedding_model)\n",
    "\n",
    "  response = chat_chain.invoke({\"query\" : query, \"context\" : context})\n",
    "\n",
    "  return_package = {\n",
    "      \"query\" : query,\n",
    "      \"response\" : response,\n",
    "      \"retriever_context\" : context\n",
    "  }\n",
    "\n",
    "  return return_package"
   ]
  },
  {
   "cell_type": "code",
   "execution_count": 17,
   "metadata": {},
   "outputs": [],
   "source": [
    "chunks = text_splitter.split_text(CONTEXT)"
   ]
  },
  {
   "cell_type": "code",
   "execution_count": 18,
   "metadata": {},
   "outputs": [],
   "source": [
    "embeddings_dict = {}\n",
    "\n",
    "for chunk in chunks:\n",
    "  embeddings_dict[chunk] = embedding_model.embed_query(chunk)"
   ]
  },
  {
   "cell_type": "code",
   "execution_count": 19,
   "metadata": {},
   "outputs": [
    {
     "name": "stdout",
     "output_type": "stream",
     "text": [
      "Chunk - How the First-Year Advising Program works:\n",
      "Not only is the philosophical approach to working with first-year students different, so is the timing and\n",
      "process in which advisor and advisee are paired. The First-Year Advising Program initiates contact\n",
      "between advisor and advisee much earlier than has been done in past years. It begins formally at the\n",
      "initial meeting at SOAR, although much behind the scenes work has been completed prior to that meeting.\n",
      "---\n",
      "Embedding - Vector of Size: 1536\n",
      "\n",
      "\n",
      "\n",
      "Chunk - One of the crucial pieces of information that determines who a student’s First-Year Advisor will be is their\n",
      "intended major. When first-year students register for SOAR, the student’s major is displayed as part of\n",
      "the online SOAR registration. The major listed is the one that students indicated on their college\n",
      "application to UNA. A significant period of time may have elapsed between when a student submitted\n",
      "---\n",
      "Embedding - Vector of Size: 1536\n",
      "\n",
      "\n",
      "\n",
      "Chunk - his/her application and the time the student registers for SOAR. A student’s interests and intended major often has changed during that time. Therefore, during the SOAR registration process, the student is asked\n",
      "if he/she wishes to change his/her major. If a student decides that the major listed is no longer his/her\n",
      "intended major, the student may choose a different major; a drop-down box appears with a list of UNA’s\n",
      "---\n",
      "Embedding - Vector of Size: 1536\n",
      "\n",
      "\n",
      "\n",
      "Chunk - current majors. Students are encourage to submit a formal major change with a document that they\n",
      "submit to the Registrar’s Office.\n",
      "In the intervening time, First-Year Advisors (who have received initial professional development and/or\n",
      "continuing professional development) are then asked to provide the Director of UAS with the SOAR dates\n",
      "they can voluntarily attend and meet with their assigned advisees.\n",
      "The Director then assigns advisors to the SOAR attendees using the following system:\n",
      "---\n",
      "Embedding - Vector of Size: 1536\n",
      "\n",
      "\n",
      "\n",
      "Chunk - • Students who have not chosen a major (are undecided in the College of Arts and Sciences) are\n",
      "assigned to First-Year Advisors who are staff employees of the university.\n",
      "• Students with declared majors are assigned to First-Year Advisors in their respective major\n",
      "departments.\n",
      "• If a department does not have a First-Year Advisor or one available for a particular SOAR session,\n",
      "any students who have indicated a major in that department are assigned to UAS professional staff\n",
      "First-Year Advisors.\n",
      "---\n",
      "Embedding - Vector of Size: 1536\n",
      "\n",
      "\n",
      "\n",
      "Chunk - Official advisor assignments are made once the SOAR session is “locked” (no students can register without\n",
      "calling Student Affairs), which typically occurs one week prior to the beginning of the SOAR session. Before\n",
      "that time, students may change their SOAR dates or cancel their registration. Any questions regarding a\n",
      "student’s major are resolved by the Director prior to making the assignments. The Director of UAS pairs\n",
      "---\n",
      "Embedding - Vector of Size: 1536\n",
      "\n",
      "\n",
      "\n",
      "Chunk - First-Year Advisors and their advisees based upon the major information provided. The Director sends out\n",
      "information to First-Year Advisors regarding their assigned advisees prior to each SOAR session. The\n",
      "information includes the student’s name, L number, address, phone numbers, email addresses (both UNA\n",
      "and personal), major, ACT scores, and any prior college credit. The assigned First-Year Advisor then\n",
      "---\n",
      "Embedding - Vector of Size: 1536\n",
      "\n",
      "\n",
      "\n",
      "Chunk - develops a tentative fall schedule for an advisee using this information. A First-Year Advisor and his/her assigned advisees meet as a group during the afternoon of the first day\n",
      "of SOAR to briefly talk and to begin to finalize a class schedule for fall semester. Students were also given\n",
      "contact information for their First-Year Advisor. Students leave the advising session with a point of contact\n",
      "(their First-Year Advisor) before ever being on campus if they have any questions or concerns in the\n",
      "---\n",
      "Embedding - Vector of Size: 1536\n",
      "\n",
      "\n",
      "\n",
      "Chunk - intervening weeks or months.\n",
      "Official advisor assignments are made in Self Service Banner by UAS following each SOAR session. When\n",
      "the fall semester begins, a student will have been assigned an advisor so that students can see their FirstYear Advisor listed officially in Self-Service Banner should they lose the contact information or when asked\n",
      "to look during their FYE class.\n",
      "During the fall semester and spring semester, First-Year Advisors are expected to contact advisees for an\n",
      "---\n",
      "Embedding - Vector of Size: 1536\n",
      "\n",
      "\n",
      "\n",
      "Chunk - initial “check in” at the beginning of the semester (within the first week or two) and at least two or three\n",
      "times throughout the semester as needed. It is expected that frequent meetings between First-Year\n",
      "Advisor and advisee will foster the development of the rapport necessary to focus on a student’s needs\n",
      "and goals. In addition, students should be more at ease asking their First-Year Advisor for assistance as\n",
      "---\n",
      "Embedding - Vector of Size: 1536\n",
      "\n",
      "\n",
      "\n",
      "Chunk - the student adjusts to his/her first semester or two of college. The First-Year Advisor Program is designed so that First-Year Advisors serve as an anchor for first-year\n",
      "students. Once a student has successfully transitioned to his/her second year at UNA, it is the\n",
      "responsibility of the academic departments or colleges to reassign an advisor to the second-year student.\n",
      "---\n",
      "Embedding - Vector of Size: 1536\n",
      "\n",
      "\n",
      "\n",
      "Chunk - Any students who remain undecided in the College of Arts and Sciences can either stay with their FirstYear Advisor by mutual agreement or be assigned an advisor in UAS until a student decides on an academic\n",
      "major.\n",
      "---\n",
      "Embedding - Vector of Size: 1536\n",
      "\n",
      "\n",
      "\n"
     ]
    }
   ],
   "source": [
    "for k,v in embeddings_dict.items():\n",
    "  print(f\"Chunk - {k}\")\n",
    "  print(\"---\")\n",
    "  print(f\"Embedding - Vector of Size: {len(v)}\")\n",
    "  print(\"\\n\\n\")"
   ]
  },
  {
   "cell_type": "code",
   "execution_count": 20,
   "metadata": {},
   "outputs": [],
   "source": [
    "import numpy as np\n",
    "from numpy.linalg import norm\n",
    "\n",
    "def cosine_similarity(vec_1, vec_2):\n",
    "  return np.dot(vec_1, vec_2) / (norm(vec_1) * norm(vec_2))"
   ]
  },
  {
   "cell_type": "code",
   "execution_count": 21,
   "metadata": {},
   "outputs": [
    {
     "name": "stdout",
     "output_type": "stream",
     "text": [
      "Vector of Size: 1536\n"
     ]
    }
   ],
   "source": [
    "query = \"As a new academic advisor, what should I keep in mind when meeting with Freshmen students?\"\n",
    "\n",
    "query_vector = embedding_model.embed_query(query)\n",
    "print(f\"Vector of Size: {len(query_vector)}\")"
   ]
  },
  {
   "cell_type": "code",
   "execution_count": 22,
   "metadata": {},
   "outputs": [
    {
     "name": "stdout",
     "output_type": "stream",
     "text": [
      "initial “check in” at the beginning of the semester (within the first week or two) and at least two or three\n",
      "times throughout the semester as needed. It is expected that frequent meetings between First-Year\n",
      "Advisor and advisee will foster the development of the rapport necessary to focus on a student’s needs\n",
      "and goals. In addition, students should be more at ease asking their First-Year Advisor for assistance as\n",
      "0.8576313050795571\n"
     ]
    }
   ],
   "source": [
    "max_similarity = -float('inf')\n",
    "closest_chunk = \"\"\n",
    "\n",
    "for chunk, chunk_vector in embeddings_dict.items():\n",
    "  cosine_similarity_score = cosine_similarity(chunk_vector, query_vector)\n",
    "\n",
    "  if cosine_similarity_score > max_similarity:\n",
    "    closest_chunk = chunk\n",
    "    max_similarity = cosine_similarity_score\n",
    "\n",
    "print(closest_chunk)\n",
    "print(max_similarity)"
   ]
  },
  {
   "cell_type": "code",
   "execution_count": 23,
   "metadata": {},
   "outputs": [
    {
     "data": {
      "text/plain": [
       "{'query': 'As a new academic advisor, what should I keep in mind when meeting with Freshmen students?',\n",
       " 'response': AIMessage(content='When meeting with Freshmen students as a new academic advisor, you should keep the following in mind:\\n\\n1. **Initial Check-In**: Have an initial \"check in\" within the first week or two of the semester. This is a crucial period for setting the tone for your relationship with the advisee.\\n\\n2. **Frequent Meetings**: Plan to meet with each advisee at least two or three times throughout the semester, or more as needed, to maintain a supportive presence.\\n\\n3. **Build Rapport**: Focus on fostering the development of rapport. This is necessary to understand the student\\'s needs and goals effectively.\\n\\n4. **Student\\'s Needs**: Be prepared to engage in discussions that revolve around the student\\'s academic and personal development. This may include their transition to college life, course selection, academic goals, and any challenges they may be facing.\\n\\n5. **Ease of Communication**: Strive to create an environment where students feel at ease asking for assistance. Your approachability can greatly impact their willingness to seek help.\\n\\n6. **Guidance and Support**: Be ready to provide guidance and support in a way that is tailored to each student\\'s unique situation. Recognize that each student may require different levels of intervention or advice.\\n\\n7. **Follow-Up**: Ensure that you follow up on any plans or actions discussed during meetings to demonstrate your commitment to their success.\\n\\nRemember that the aim is to establish a positive and proactive relationship with your advisees, guiding them towards a successful first year of their college experience.'),\n",
       " 'retriever_context': 'initial “check in” at the beginning of the semester (within the first week or two) and at least two or three\\ntimes throughout the semester as needed. It is expected that frequent meetings between First-Year\\nAdvisor and advisee will foster the development of the rapport necessary to focus on a student’s needs\\nand goals. In addition, students should be more at ease asking their First-Year Advisor for assistance as'}"
      ]
     },
     "execution_count": 23,
     "metadata": {},
     "output_type": "execute_result"
    }
   ],
   "source": [
    "simple_rag(\"As a new academic advisor, what should I keep in mind when meeting with Freshmen students?\", embeddings_dict, embedding_model, chat_chain)"
   ]
  },
  {
   "cell_type": "code",
   "execution_count": 24,
   "metadata": {},
   "outputs": [],
   "source": [
    "!pip install pinecone-client -qU"
   ]
  },
  {
   "cell_type": "code",
   "execution_count": 25,
   "metadata": {},
   "outputs": [],
   "source": [
    "import os\n",
    "import getpass\n",
    "\n",
    "os.environ[\"PINECONE_API_KEY\"] = getpass.getpass(\"Pinecone API Key:\")"
   ]
  },
  {
   "cell_type": "code",
   "execution_count": 26,
   "metadata": {},
   "outputs": [],
   "source": [
    "os.environ[\"PINECONE_ENV\"] = getpass.getpass(\"Pinecone Environment:\")"
   ]
  },
  {
   "cell_type": "code",
   "execution_count": 34,
   "metadata": {},
   "outputs": [],
   "source": [
    "from langchain.vectorstores import Pinecone\n",
    "import pinecone\n",
    "\n",
    "pinecone.init(\n",
    "    api_key=os.getenv(\"PINECONE_API_KEY\"),  # find at app.pinecone.io\n",
    "    environment=os.getenv(\"PINECONE_ENV\"),  # next to api key in console\n",
    ")\n",
    "\n",
    "index_name = \"rag1\""
   ]
  },
  {
   "cell_type": "code",
   "execution_count": 28,
   "metadata": {},
   "outputs": [],
   "source": [
    "!pip install pymupdf -q -U"
   ]
  },
  {
   "cell_type": "code",
   "execution_count": 35,
   "metadata": {},
   "outputs": [],
   "source": [
    "from langchain.document_loaders import PyMuPDFLoader\n",
    "\n",
    "docs = PyMuPDFLoader(\"https://www.una.edu/successcenter/docs/First-YearAdvisorProgram-Spring2018.pdf\").load()"
   ]
  },
  {
   "cell_type": "code",
   "execution_count": 36,
   "metadata": {},
   "outputs": [],
   "source": [
    "text_splitter = RecursiveCharacterTextSplitter(\n",
    "    chunk_size = 200,\n",
    "    chunk_overlap = 0,\n",
    "    length_function = tiktoken_len,\n",
    ")\n",
    "\n",
    "split_chunks = text_splitter.split_documents(docs)"
   ]
  },
  {
   "cell_type": "code",
   "execution_count": 37,
   "metadata": {},
   "outputs": [
    {
     "data": {
      "text/plain": [
       "23"
      ]
     },
     "execution_count": 37,
     "metadata": {},
     "output_type": "execute_result"
    }
   ],
   "source": [
    "len(split_chunks)"
   ]
  },
  {
   "cell_type": "code",
   "execution_count": 38,
   "metadata": {},
   "outputs": [
    {
     "name": "stdout",
     "output_type": "stream",
     "text": [
      "185\n"
     ]
    }
   ],
   "source": [
    "max_chunk_length = 0\n",
    "\n",
    "for chunk in split_chunks:\n",
    "  max_chunk_length = max(max_chunk_length, tiktoken_len(chunk.page_content))\n",
    "\n",
    "print(max_chunk_length)"
   ]
  },
  {
   "cell_type": "code",
   "execution_count": 39,
   "metadata": {},
   "outputs": [],
   "source": [
    "vector_store = Pinecone.from_documents(split_chunks, embedding_model, index_name=index_name)"
   ]
  },
  {
   "cell_type": "code",
   "execution_count": 40,
   "metadata": {},
   "outputs": [],
   "source": [
    "retriever = vector_store.as_retriever()"
   ]
  },
  {
   "cell_type": "code",
   "execution_count": 41,
   "metadata": {},
   "outputs": [],
   "source": [
    "RAG_PROMPT = \"\"\"\n",
    "CONTEXT:\n",
    "{context}\n",
    "\n",
    "QUERY:\n",
    "{question}\n",
    "\n",
    "Use the provide context to answer the provided user query. Only use the provided context to answer the query. If you do not know the answer, response with \"I don't know\"\n",
    "\"\"\"\n",
    "\n",
    "rag_prompt = ChatPromptTemplate.from_template(RAG_PROMPT)"
   ]
  },
  {
   "cell_type": "code",
   "execution_count": 42,
   "metadata": {},
   "outputs": [],
   "source": [
    "from langchain.schema.output_parser import StrOutputParser\n",
    "from langchain.schema.runnable import RunnablePassthrough\n",
    "\n",
    "rag_chain = (\n",
    "    {\"context\": retriever, \"question\": RunnablePassthrough()}\n",
    "    | rag_prompt\n",
    "    | openai\n",
    "    | StrOutputParser()\n",
    ")"
   ]
  },
  {
   "cell_type": "code",
   "execution_count": 43,
   "metadata": {},
   "outputs": [
    {
     "data": {
      "text/plain": [
       "'As a new academic advisor meeting with freshmen students, you should keep the following points in mind:\\n\\n1. Developmental Advising: Understand that the First-Year Advisor Program is grounded in the model of developmental advising supported by NACADA, which focuses on the holistic development of students.\\n\\n2. Unique Challenges: Recognize that first-year students face unique challenges different from those of upperclassmen, and be prepared to address these specific needs.\\n\\n3. Signs of Distress: Be alert to the signs that indicate students are in distress and know the proper interventions to assist them.\\n\\n4. Academic Policies: Familiarize yourself with the academic policies and procedures that pertain specifically to first-year students, as these will guide your advising sessions.\\n\\n5. Professional Development: Engage in continuous professional development to stay informed about current trends in academic advising, retention efforts, and changes in university policies and procedures that impact your advisees.\\n\\n6. Generational Differences: Understand the characteristics of the Millennial Generation and Generation Z, and consider how these generational differences may affect advising.\\n\\n7. Major Requirements: Learn about the specific major requirements, particularly for prominent programs such as Elementary Education, Secondary Education, the College of Business, and the College of Nursing.\\n\\n8. Diversity of Students: Be knowledgeable about the specific needs and requirements of diverse subpopulations of first-year students, such as those in DDEP and Pre-engineering.\\n\\nBy keeping these points in mind, you will be better equipped to serve as an anchor for first-year students and help them transition successfully into their second year and beyond.'"
      ]
     },
     "execution_count": 43,
     "metadata": {},
     "output_type": "execute_result"
    }
   ],
   "source": [
    "rag_chain.invoke(\"As a new academic advisor, what should I keep in mind when meeting with Freshmen students?\")"
   ]
  },
  {
   "cell_type": "code",
   "execution_count": 44,
   "metadata": {},
   "outputs": [
    {
     "data": {
      "text/plain": [
       "\"I don't know\""
      ]
     },
     "execution_count": 44,
     "metadata": {},
     "output_type": "execute_result"
    }
   ],
   "source": [
    "rag_chain.invoke(\"What is the airspeed velocity of an unladen swallow?\")"
   ]
  }
 ],
 "metadata": {
  "kernelspec": {
   "display_name": "llmops-course",
   "language": "python",
   "name": "python3"
  },
  "language_info": {
   "codemirror_mode": {
    "name": "ipython",
    "version": 3
   },
   "file_extension": ".py",
   "mimetype": "text/x-python",
   "name": "python",
   "nbconvert_exporter": "python",
   "pygments_lexer": "ipython3",
   "version": "3.11.6"
  }
 },
 "nbformat": 4,
 "nbformat_minor": 2
}
